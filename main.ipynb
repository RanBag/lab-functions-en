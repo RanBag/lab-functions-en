{
 "cells": [
  {
   "cell_type": "markdown",
   "metadata": {},
   "source": [
    "# Functions"
   ]
  },
  {
   "cell_type": "markdown",
   "metadata": {},
   "source": [
    "On this lab we will put to practice some of the concepts we have learned on this past few days.\n",
    "\n",
    "`NOTE: On this lab you should try to write all the functions yourself using only the most basic of python syntax and without functions such as len, count, sum, max, min, in, etc. Give it a try. 🧑🏻‍💻👩🏻‍💻`\n",
    "\n",
    "The cell after each exercise contains a few tests to check if your function works as expected."
   ]
  },
  {
   "cell_type": "code",
   "execution_count": 1,
   "metadata": {},
   "outputs": [],
   "source": [
    "from mod.testing import *\n",
    "import unittest"
   ]
  },
  {
   "cell_type": "markdown",
   "metadata": {},
   "source": [
    "## 1. Write a function that returns the greater of two numbers"
   ]
  },
  {
   "cell_type": "code",
   "execution_count": 128,
   "metadata": {},
   "outputs": [],
   "source": [
    "# Step 1: Define the 'greater' function that compares two numbers\n",
    "\n",
    "def greater(a, b):\n",
    " if a > b:\n",
    "    return a\n",
    " else:\n",
    "    return b \n",
    " \n",
    " # input nums to test the 'greater' function.\n",
    "def test_greater(greater):\n",
    "    result = greater(10, 20)"
   ]
  },
  {
   "cell_type": "code",
   "execution_count": 129,
   "metadata": {},
   "outputs": [],
   "source": [
    "# This will test your function \n",
    "test_greater(greater)"
   ]
  },
  {
   "cell_type": "markdown",
   "metadata": {},
   "source": [
    "## 2. Now write a function that returns the largest element on a list"
   ]
  },
  {
   "cell_type": "code",
   "execution_count": null,
   "metadata": {},
   "outputs": [],
   "source": [
    "# define the largest num in the list using max \n",
    "def greatest(lst):\n",
    "\n",
    "    return max(lst)"
   ]
  },
  {
   "cell_type": "code",
   "execution_count": null,
   "metadata": {},
   "outputs": [],
   "source": [
    "# This will test your function \n",
    "test_greatest(greatest)"
   ]
  },
  {
   "cell_type": "markdown",
   "metadata": {},
   "source": [
    "## 3. Write a function that sums all the elements on a list"
   ]
  },
  {
   "cell_type": "code",
   "execution_count": null,
   "metadata": {},
   "outputs": [
    {
     "data": {
      "text/plain": [
       "100"
      ]
     },
     "execution_count": 101,
     "metadata": {},
     "output_type": "execute_result"
    }
   ],
   "source": [
    "# Define the function: sum_all\n",
    "def sum_all(lst):\n",
    " \n",
    "   return sum(lst)\n",
    "\n",
    "################################################ function end\n",
    "sum_all([10, 20 , 30, 40])"
   ]
  },
  {
   "cell_type": "code",
   "execution_count": 98,
   "metadata": {
    "scrolled": true
   },
   "outputs": [
    {
     "name": "stdout",
     "output_type": "stream",
     "text": [
      "The sum is: 295\n"
     ]
    }
   ],
   "source": [
    "# This will test your function \n",
    "test_sum(sum_all)"
   ]
  },
  {
   "cell_type": "markdown",
   "metadata": {},
   "source": [
    "## 4. Write another function that multiplies all the elements on a list"
   ]
  },
  {
   "cell_type": "code",
   "execution_count": null,
   "metadata": {},
   "outputs": [
    {
     "data": {
      "text/plain": [
       "88200"
      ]
     },
     "execution_count": 102,
     "metadata": {},
     "output_type": "execute_result"
    }
   ],
   "source": [
    "def mult_all(lst):\n",
    "    total = 1 # total = 1  # Start with 1 because multiplying by 0 = 0\n",
    "    for each_Num in lst: \n",
    "       total *= each_Num\n",
    "    return total\n",
    "################################################# function end\n",
    "mult_all([5,7,7,6,5,4,3])"
   ]
  },
  {
   "cell_type": "code",
   "execution_count": null,
   "metadata": {},
   "outputs": [],
   "source": [
    "# This will test your function \n",
    "test_mult(mult_all)"
   ]
  },
  {
   "cell_type": "markdown",
   "metadata": {},
   "source": [
    "## 5. Now combine those two ideas and write a function that receives a list and either \"+\" or \"*\" and outputs acordingly"
   ]
  },
  {
   "cell_type": "code",
   "execution_count": null,
   "metadata": {},
   "outputs": [
    {
     "data": {
      "text/plain": [
       "100800"
      ]
     },
     "execution_count": 110,
     "metadata": {},
     "output_type": "execute_result"
    }
   ],
   "source": [
    "def oper_all(arr, oper=\"*\"):\n",
    "\n",
    "    if oper == \"+\":\n",
    "        return sum(arr)\n",
    "###################################### + end\n",
    "\n",
    "\n",
    "    elif oper == \"*\":\n",
    "        result = 1\n",
    "        for num in arr:\n",
    "            result *= num\n",
    "        return result\n",
    "###################################### * end \n",
    "oper_all([5,6,8,7,5,4,3] )"
   ]
  },
  {
   "cell_type": "code",
   "execution_count": null,
   "metadata": {},
   "outputs": [],
   "source": [
    "# This will test your function \n",
    "test_operations(oper_all)"
   ]
  },
  {
   "cell_type": "markdown",
   "metadata": {},
   "source": [
    "## 6. Write a function that returns the factorial of a number."
   ]
  },
  {
   "cell_type": "code",
   "execution_count": null,
   "metadata": {},
   "outputs": [
    {
     "name": "stdout",
     "output_type": "stream",
     "text": [
      "120\n"
     ]
    }
   ],
   "source": [
    "def factorial(n):\n",
    "    \n",
    "    result = 1\n",
    "    for i in range(1, n + 1):\n",
    "        result *= i\n",
    "    return result\n",
    "\n",
    "print(factorial(5)) \n"
   ]
  },
  {
   "cell_type": "code",
   "execution_count": 37,
   "metadata": {},
   "outputs": [],
   "source": [
    "#factorial formula\n",
    "#n! = n * ( n - 1 ) *...*1\n",
    "\n",
    "# This code defines a function called \"factorial\" which takes an input \"n\". The function uses a for loop to iterate through the range of numbers \n",
    "# from 1 to n+1. For each number in that range, it multiplies the current value of x by the number in the range. At the end of the loop, \n",
    "# the function returns the final value of x, which will be the factorial of the input number \"n\".\n",
    "\n",
    "# The Factorial of a positive integer n is the product of all positive integers less than or equal to n. \n",
    "# For example, the factorial of 6 (written \"6!\") is 6 * 5 * 4 * 3 * 2 * 1 = 720.\n",
    "\n",
    "# So this function takes an input of any positive integer, and returns the factorial of that number."
   ]
  },
  {
   "cell_type": "code",
   "execution_count": 4,
   "metadata": {},
   "outputs": [
    {
     "name": "stderr",
     "output_type": "stream",
     "text": [
      "....................................................................................................\n",
      "----------------------------------------------------------------------\n",
      "Ran 100 tests in 0.096s\n",
      "\n",
      "OK\n"
     ]
    }
   ],
   "source": [
    "# This will test your function \n",
    "test_factorial(factorial)"
   ]
  },
  {
   "cell_type": "markdown",
   "metadata": {},
   "source": [
    "## 7. Write a function that takes a list and returns a list of the unique values.\n",
    "\n",
    "`NOTE: You cannot use set. 🤔`\n",
    "\n",
    "\n",
    "def unique_values(lst):\n",
    "    unique_lst = []  \n",
    "    for item in lst:\n",
    "        if item not in unique_lst: \n",
    "            unique_lst.append(item)  "
   ]
  },
  {
   "cell_type": "code",
   "execution_count": null,
   "metadata": {},
   "outputs": [],
   "source": [
    "def unique(lst_un):\n",
    "\n",
    "    unique_lst = [] \n",
    "    for item in lst_un:\n",
    "        if item not in unique_lst:  \n",
    "            unique_lst.append(item) \n",
    "    return unique_lst"
   ]
  },
  {
   "cell_type": "code",
   "execution_count": 24,
   "metadata": {},
   "outputs": [
    {
     "name": "stderr",
     "output_type": "stream",
     "text": [
      "....................................................................................................\n",
      "----------------------------------------------------------------------\n",
      "Ran 100 tests in 0.094s\n",
      "\n",
      "OK\n"
     ]
    }
   ],
   "source": [
    "# This will test your function \n",
    "test_unique(unique)"
   ]
  },
  {
   "cell_type": "markdown",
   "metadata": {},
   "source": [
    "## 8. Write a function that returns the mode of a list, i.e.: the element that appears the most times.\n",
    "`NOTE: You should not use count... 🧐`"
   ]
  },
  {
   "cell_type": "code",
   "execution_count": null,
   "metadata": {},
   "outputs": [],
   "source": [
    "def mode_counter(arr):\n",
    "\n",
    "    frequency = {}  # Dictionary to store the frequency of each element\n",
    "    for item in arr:\n",
    "        if item in frequency:\n",
    "            frequency[item] += 1  # Increment the count if the item is already in the dictionary\n",
    "        else:\n",
    "            frequency[item] = 1  # Initialize the count if the item is not in the dictionary\n",
    "\n",
    "    # Find the item with the maximum frequency\n",
    "    max_frequency = 0\n",
    "    mode = None\n",
    "    for item, count in frequency.items():\n",
    "        if count > max_frequency:\n",
    "            max_frequency = count\n",
    "            mode = item\n",
    "\n",
    "    return mode"
   ]
  },
  {
   "cell_type": "code",
   "execution_count": 32,
   "metadata": {},
   "outputs": [
    {
     "name": "stderr",
     "output_type": "stream",
     "text": [
      "....................................................................................................\n",
      "----------------------------------------------------------------------\n",
      "Ran 100 tests in 0.066s\n",
      "\n",
      "OK\n"
     ]
    }
   ],
   "source": [
    "# This will test your function \n",
    "test_mode(mode_counter)"
   ]
  },
  {
   "cell_type": "markdown",
   "metadata": {},
   "source": [
    "## 9. Write a function that calculates the standard deviation of a list.\n",
    "`NOTE: Do not use any libraries or already built functions. 😉`"
   ]
  },
  {
   "cell_type": "code",
   "execution_count": null,
   "metadata": {},
   "outputs": [],
   "source": [
    "def st_dev(list_sd):\n",
    "\n",
    "    # Step 1: Calculate the mean (average)\n",
    "    total = 0\n",
    "    count = 0\n",
    "    \n",
    "    # Iterate over the list to get the sum (total) and the count of elements\n",
    "    for num in list_sd:\n",
    "        total += num\n",
    "        count += 1\n",
    "    \n",
    "    # Calculate the mean manually\n",
    "    mean = total / count\n",
    "    \n",
    "    # Step 2: Calculate the squared differences from the mean\n",
    "    squared_diff = 0\n",
    "    for num in list_sd:\n",
    "        squared_diff += (num - mean) ** 2\n",
    "    \n",
    "    # Step 3: Calculate the variance (average of squared differences)\n",
    "    variance = squared_diff / count\n",
    "    \n",
    "    # Step 4: Calculate the standard deviation (square root of variance)\n",
    "    std_dev = variance ** 0.5\n",
    "    \n",
    "    return std_dev\n"
   ]
  },
  {
   "cell_type": "code",
   "execution_count": null,
   "metadata": {},
   "outputs": [],
   "source": [
    "# This will test your function \n",
    "test_stdev(st_dev)"
   ]
  },
  {
   "cell_type": "markdown",
   "metadata": {},
   "source": [
    "## 10. Write a function to check if a string is a pangram, i.e.: if it contains all the letters of the alphabet at least once. Mind that the strings may contain characters that are not letters."
   ]
  },
  {
   "cell_type": "code",
   "execution_count": null,
   "metadata": {},
   "outputs": [],
   "source": [
    "def pangram(string):\n",
    "\n",
    "    string = string.lower()\n",
    "    \n",
    "    # List of all alphabet letters\n",
    "    alphabet = \"abcdefghijklmnopqrstuvwxyz\"\n",
    "    \n",
    "    # Check if every letter in the alphabet appears in the string\n",
    "    for letter in alphabet:\n",
    "        if letter not in string:\n",
    "            return False  # If any letter is missing, it's not a pangram\n",
    "    \n",
    "    return True  # All letters are found, it's a pangram"
   ]
  },
  {
   "cell_type": "code",
   "execution_count": 28,
   "metadata": {},
   "outputs": [
    {
     "name": "stderr",
     "output_type": "stream",
     "text": [
      "..............................\n",
      "----------------------------------------------------------------------\n",
      "Ran 30 tests in 0.019s\n",
      "\n",
      "OK\n"
     ]
    }
   ],
   "source": [
    "# This will test your function \n",
    "test_pangram(pangram)"
   ]
  },
  {
   "cell_type": "markdown",
   "metadata": {},
   "source": [
    "## 11. Write a function that receives a string of comma separated words and returns a string of comma separated words sorted alphabetically.\n",
    "\n",
    "`NOTE: You may use sorted but not split and definitely no join! 🤪`"
   ]
  },
  {
   "cell_type": "code",
   "execution_count": null,
   "metadata": {},
   "outputs": [],
   "source": [
    "def sort_alpha(string):\n",
    "\n",
    "    # Manually split the string by commas\n",
    "    words = []\n",
    "    current_word = \"\"\n",
    "    for char in string:\n",
    "        if char == \",\":\n",
    "            words.append(current_word)\n",
    "            current_word = \"\"\n",
    "        else:\n",
    "            current_word += char\n",
    "    words.append(current_word)  # To append the last word after the loop finishes\n",
    "    \n",
    "    sorted_words = sorted(words)\n",
    "    \n",
    "    result = \"\"\n",
    "    for i, word in enumerate(sorted_words):\n",
    "        if i == len(sorted_words) - 1:\n",
    "            result += word\n",
    "        else:\n",
    "            result += word + \",\"\n",
    "    \n",
    "    return result "
   ]
  },
  {
   "cell_type": "code",
   "execution_count": 12,
   "metadata": {},
   "outputs": [
    {
     "name": "stderr",
     "output_type": "stream",
     "text": [
      ".................................."
     ]
    },
    {
     "name": "stderr",
     "output_type": "stream",
     "text": [
      "..................................................................\n",
      "----------------------------------------------------------------------\n",
      "Ran 100 tests in 0.068s\n",
      "\n",
      "OK\n"
     ]
    }
   ],
   "source": [
    "# This will test your function \n",
    "test_alpha(sort_alpha)"
   ]
  },
  {
   "cell_type": "markdown",
   "metadata": {},
   "source": [
    "## 12. Write a function to check if a given password is strong (at least 8 characters, at least one lower case, at least one upper case, at least one number and at least one special character). It should output True if strong and False if not."
   ]
  },
  {
   "cell_type": "code",
   "execution_count": 9,
   "metadata": {},
   "outputs": [],
   "source": [
    "def check_pass(password):\n",
    "\n",
    "# 8 characters long\n",
    "    if len(password) < 8:\n",
    "            \n",
    "            return False\n",
    "\n",
    "    has_lower = False\n",
    "    has_upper = False\n",
    "    has_number = False\n",
    "    has_special = False\n",
    "    special_characters = \"!@#$%^&*()-_=+[{]}\\\\|;:'\\\",<.>/?\"\n",
    "\n",
    "    # For Loop through each character in the password\n",
    "    for char in password:\n",
    "            if char.islower():\n",
    "                has_lower = True\n",
    "            elif char.isupper():\n",
    "                has_upper = True\n",
    "            elif char.isdigit():\n",
    "                has_number = True\n",
    "            elif char in special_characters:\n",
    "                has_special = True\n",
    "\n",
    "    # If all conditions are met, return True, otherwise False\n",
    "    if has_lower and has_upper and has_number and has_special:\n",
    "            return True\n",
    "    else: \n",
    "            return False"
   ]
  },
  {
   "cell_type": "code",
   "execution_count": 26,
   "metadata": {},
   "outputs": [
    {
     "name": "stderr",
     "output_type": "stream",
     "text": [
      "....................................................................................................\n",
      "----------------------------------------------------------------------\n",
      "Ran 100 tests in 0.068s\n",
      "\n",
      "OK\n"
     ]
    }
   ],
   "source": [
    "# This will test your function \n",
    "test_pass(check_pass)"
   ]
  }
 ],
 "metadata": {
  "kernelspec": {
   "display_name": "Python 3",
   "language": "python",
   "name": "python3"
  },
  "language_info": {
   "codemirror_mode": {
    "name": "ipython",
    "version": 3
   },
   "file_extension": ".py",
   "mimetype": "text/x-python",
   "name": "python",
   "nbconvert_exporter": "python",
   "pygments_lexer": "ipython3",
   "version": "3.13.1"
  }
 },
 "nbformat": 4,
 "nbformat_minor": 4
}
